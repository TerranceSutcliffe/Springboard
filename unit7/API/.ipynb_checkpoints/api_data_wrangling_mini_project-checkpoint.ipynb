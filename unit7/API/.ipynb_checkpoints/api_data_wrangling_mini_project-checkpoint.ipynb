{
 "cells": [
  {
   "cell_type": "markdown",
   "metadata": {},
   "source": [
    "This exercise will require you to pull some data from the Qunadl API. Qaundl is currently the most widely used aggregator of financial market data."
   ]
  },
  {
   "cell_type": "markdown",
   "metadata": {},
   "source": [
    "As a first step, you will need to register a free account on the http://www.quandl.com website."
   ]
  },
  {
   "cell_type": "markdown",
   "metadata": {},
   "source": [
    "After you register, you will be provided with a unique API key, that you should store:"
   ]
  },
  {
   "cell_type": "code",
   "execution_count": 2,
   "metadata": {},
   "outputs": [],
   "source": [
    "with open(key_path, 'r') as line:\n",
    "    API_KEY = line.read()"
   ]
  },
  {
   "cell_type": "markdown",
   "metadata": {},
   "source": [
    "Qaundl has a large number of data sources, but, unfortunately, most of them require a Premium subscription. Still, there are also a good number of free datasets."
   ]
  },
  {
   "cell_type": "markdown",
   "metadata": {},
   "source": [
    "For this mini project, we will focus on equities data from the Frankfurt Stock Exhange (FSE), which is available for free. We'll try and analyze the stock prices of a company called Carl Zeiss Meditec, which manufactures tools for eye examinations, as well as medical lasers for laser eye surgery: https://www.zeiss.com/meditec/int/home.html. The company is listed under the stock ticker AFX_X."
   ]
  },
  {
   "cell_type": "markdown",
   "metadata": {},
   "source": [
    "You can find the detailed Quandl API instructions here: https://docs.quandl.com/docs/time-series"
   ]
  },
  {
   "cell_type": "markdown",
   "metadata": {},
   "source": [
    "While there is a dedicated Python package for connecting to the Quandl API, we would prefer that you use the *requests* package, which can be easily downloaded using *pip* or *conda*. You can find the documentation for the package here: http://docs.python-requests.org/en/master/ "
   ]
  },
  {
   "cell_type": "markdown",
   "metadata": {},
   "source": [
    "Finally, apart from the *requests* package, you are encouraged to not use any third party Python packages, such as *pandas*, and instead focus on what's available in the Python Standard Library (the *collections* module might come in handy: https://pymotw.com/3/collections/ ).\n",
    "Also, since you won't have access to DataFrames, you are encouraged to us Python's native data structures - preferably dictionaries, though some questions can also be answered using lists.\n",
    "You can read more on these data structures here: https://docs.python.org/3/tutorial/datastructures.html"
   ]
  },
  {
   "cell_type": "markdown",
   "metadata": {},
   "source": [
    "Keep in mind that the JSON responses you will be getting from the API map almost one-to-one to Python's dictionaries. Unfortunately, they can be very nested, so make sure you read up on indexing dictionaries in the documentation provided above."
   ]
  },
  {
   "cell_type": "code",
   "execution_count": 3,
   "metadata": {},
   "outputs": [],
   "source": [
    "# First, import the relevant modules\n",
    "import requests"
   ]
  },
  {
   "cell_type": "code",
   "execution_count": 4,
   "metadata": {},
   "outputs": [],
   "source": [
    "def status_check(r):\n",
    "    if r:\n",
    "        print('Response is A ok!')\n",
    "    else:\n",
    "        print('Uh oh, Did not receive 200 Status')"
   ]
  },
  {
   "cell_type": "markdown",
   "metadata": {},
   "source": [
    "These are your tasks for this mini project:\n",
    "\n",
    "1. Collect data from the Franfurt Stock Exchange, for the ticker AFX_X, for the whole year 2017 (keep in mind that the date format is YYYY-MM-DD).\n",
    "2. Convert the returned JSON object into a Python dictionary.\n",
    "3. Calculate what the highest and lowest opening prices were for the stock in this period.\n",
    "4. What was the largest change in any one day (based on High and Low price)?\n",
    "5. What was the largest change between any two days (based on Closing Price)?\n",
    "6. What was the average daily trading volume during this year?\n",
    "7. (Optional) What was the median trading volume during this year. (Note: you may need to implement your own function for calculating the median.)"
   ]
  },
  {
   "cell_type": "markdown",
   "metadata": {},
   "source": [
    "## Task 1 :Collect data from the Franfurt Stock Exchange, for the ticker AFX_X, for the whole year 2017."
   ]
  },
  {
   "cell_type": "code",
   "execution_count": 5,
   "metadata": {},
   "outputs": [
    {
     "name": "stdout",
     "output_type": "stream",
     "text": [
      "Response is A ok!\n"
     ]
    }
   ],
   "source": [
    "url = 'https://www.quandl.com/api/v3/datasets/FSE/AFX_X/data.json?api_key='+API_KEY+'&'\\\n",
    "+'start_date=2017-01-01'+'&'+'end_date=2017-12-31'\n",
    "r = requests.get(url)\n",
    "status_check(r)"
   ]
  },
  {
   "cell_type": "markdown",
   "metadata": {},
   "source": [
    "## Task 2 :Convert the returned JSON object into a Python dictionary."
   ]
  },
  {
   "cell_type": "code",
   "execution_count": 6,
   "metadata": {},
   "outputs": [
    {
     "name": "stdout",
     "output_type": "stream",
     "text": [
      "['Date', 'Open', 'High', 'Low', 'Close', 'Change', 'Traded Volume', 'Turnover', 'Last Price of the Day', 'Daily Traded Units', 'Daily Turnover']\n"
     ]
    }
   ],
   "source": [
    "json_data = r.json()\n",
    "print(json_data['dataset_data']['column_names'])"
   ]
  },
  {
   "cell_type": "code",
   "execution_count": 7,
   "metadata": {},
   "outputs": [
    {
     "data": {
      "text/plain": [
       "{'Date': 0,\n",
       " 'Open': 1,\n",
       " 'High': 2,\n",
       " 'Low': 3,\n",
       " 'Close': 4,\n",
       " 'Change': 5,\n",
       " 'Traded Volume': 6,\n",
       " 'Turnover': 7,\n",
       " 'Last Price of the Day': 8,\n",
       " 'Daily Traded Units': 9,\n",
       " 'Daily Turnover': 10}"
      ]
     },
     "execution_count": 7,
     "metadata": {},
     "output_type": "execute_result"
    }
   ],
   "source": [
    "col_names = json_data['dataset_data']['column_names']\n",
    "col_pos = {key:col_names.index(key) for key in col_names}\n",
    "col_pos"
   ]
  },
  {
   "cell_type": "code",
   "execution_count": 8,
   "metadata": {},
   "outputs": [
    {
     "name": "stdout",
     "output_type": "stream",
     "text": [
      "[['2017-01-02', 34.99, 35.94, 34.99, 35.8, None, 44700.0, 1590561.0, None, None, None], ['2017-01-03', 35.9, 35.93, 35.34, 35.48, None, 70618.0, 2515473.0, None, None, None], ['2017-01-04', 35.48, 35.51, 34.75, 35.19, None, 54408.0, 1906810.0, None, None, None]]\n"
     ]
    }
   ],
   "source": [
    "data = json_data['dataset_data']['data']\n",
    "data.reverse() \n",
    "print(data[:3])"
   ]
  },
  {
   "cell_type": "markdown",
   "metadata": {},
   "source": [
    "## Task 3 :Calculate what the highest and lowest opening prices were for the stock in this period."
   ]
  },
  {
   "cell_type": "code",
   "execution_count": 9,
   "metadata": {},
   "outputs": [
    {
     "name": "stdout",
     "output_type": "stream",
     "text": [
      "For Carl Zeiss Meditec (ticker AFX_X) in 2017,\n",
      "the highest opening price was €53.11 and \n",
      "the lowest opening price was €34.0\n"
     ]
    }
   ],
   "source": [
    "highest = 0\n",
    "lowest = 1e12 # arbitrarily large starting number\n",
    "for day in data:\n",
    "    Opening = day[col_pos['Open']]\n",
    "    if isinstance(Opening, float):\n",
    "        highest = max(highest,Opening)\n",
    "        lowest = min(lowest, Opening)\n",
    "\n",
    "print('For Carl Zeiss Meditec (ticker AFX_X) in 2017,\\nthe highest opening price was €{0} and'\\\n",
    "      ' \\nthe lowest opening price was €{1}'.format(highest,lowest))"
   ]
  },
  {
   "cell_type": "markdown",
   "metadata": {},
   "source": [
    "## Task 4 :What was the largest change in any one day (based on High and Low price)?"
   ]
  },
  {
   "cell_type": "code",
   "execution_count": 10,
   "metadata": {},
   "outputs": [
    {
     "name": "stdout",
     "output_type": "stream",
     "text": [
      "For Carl Zeiss Meditec (ticker AFX_X) in 2017,\n",
      "the largest intra day change was €2.81\n"
     ]
    }
   ],
   "source": [
    "delta_list =[0]\n",
    "for day in data:\n",
    "    High = day[col_pos['High']]\n",
    "    Low = day[col_pos['Low']]\n",
    "    if isinstance(High, float) & isinstance(Low, float):\n",
    "        delta_list.append(High-Low)\n",
    "\n",
    "t4 = round(max(delta_list),2)\n",
    "print('For Carl Zeiss Meditec (ticker AFX_X) in 2017,\\nthe largest intra day change was €{0}'\\\n",
    "      .format(t4))"
   ]
  },
  {
   "cell_type": "markdown",
   "metadata": {},
   "source": [
    "## Task 5 :What was the largest change between any two days (based on Closing Price)?"
   ]
  },
  {
   "cell_type": "code",
   "execution_count": 11,
   "metadata": {},
   "outputs": [
    {
     "name": "stdout",
     "output_type": "stream",
     "text": [
      "For Carl Zeiss Meditec (ticker AFX_X) in 2017,\n",
      "the largest day over day change was €2.56\n"
     ]
    }
   ],
   "source": [
    "yesterday = data[0][col_pos['Close']]\n",
    "dayDiff_list = []\n",
    "for day in data:\n",
    "    today = day[col_pos['Close']]\n",
    "    if isinstance(today, float) & isinstance(yesterday, float):\n",
    "        dayDiff_list.append(abs(yesterday-today))\n",
    "        yesterday = day[col_pos['Close']]\n",
    "\n",
    "t5 = round(max(dayDiff_list),2)\n",
    "print('For Carl Zeiss Meditec (ticker AFX_X) in 2017,\\nthe largest day over day change was €{0}'\\\n",
    "      .format(t5))"
   ]
  },
  {
   "cell_type": "markdown",
   "metadata": {},
   "source": [
    "## Task 6 :What was the average daily trading volume during this year?"
   ]
  },
  {
   "cell_type": "code",
   "execution_count": 12,
   "metadata": {},
   "outputs": [
    {
     "name": "stdout",
     "output_type": "stream",
     "text": [
      "For Carl Zeiss Meditec (ticker AFX_X) in 2017,\n",
      "the average daily trading volume was 89,124\n"
     ]
    }
   ],
   "source": [
    "vol_list = []\n",
    "for day in data:\n",
    "    vol = day[col_pos['Traded Volume']]\n",
    "    if isinstance(vol, float):\n",
    "        vol_list.append(vol)\n",
    "\n",
    "# verify the length of vol_list and data are equal\n",
    "len(vol_list)==len(data)\n",
    "# verify all data types are floats \n",
    "set([type(x) for x in vol_list])\n",
    "\n",
    "t6 = round(sum(vol_list) / len(vol_list))\n",
    "print('For Carl Zeiss Meditec (ticker AFX_X) in 2017,\\nthe average daily trading volume was {:,}'\\\n",
    "       .format(t6))"
   ]
  },
  {
   "cell_type": "markdown",
   "metadata": {},
   "source": [
    "## Task 7 :What was the median trading volume during this year?"
   ]
  },
  {
   "cell_type": "code",
   "execution_count": 13,
   "metadata": {},
   "outputs": [],
   "source": [
    "def get_list_median(lst):\n",
    "    # make a copy\n",
    "    temp_list = lst[:]\n",
    "    \n",
    "    # test type\n",
    "    type_test = [type(x) for x in temp_list] \n",
    "    if not all([x in [int, float] for x in type_test]):\n",
    "        raise TypeError\n",
    "    \n",
    "    # sort the list\n",
    "    temp_list.sort()\n",
    "    \n",
    "    # get len\n",
    "    length = len(temp_list) \n",
    "    \n",
    "    # get middle position rounded towards zero\n",
    "    half = int(length/2)\n",
    "    \n",
    "    # determine if len is even or odd\n",
    "    if length%2==0:\n",
    "        median = (temp_list[half]+ temp_list[half-1])/2\n",
    "    else:\n",
    "        median = temp_list[half]\n",
    "    \n",
    "    return median"
   ]
  },
  {
   "cell_type": "code",
   "execution_count": 14,
   "metadata": {
    "scrolled": true
   },
   "outputs": [
    {
     "name": "stdout",
     "output_type": "stream",
     "text": [
      "For Carl Zeiss Meditec (ticker AFX_X) in 2017,\n",
      "the median daily trading volume was 76,286.0\n"
     ]
    }
   ],
   "source": [
    "vol_list = []\n",
    "for day in data:\n",
    "    vol = day[col_pos['Traded Volume']]\n",
    "    if isinstance(vol, float):\n",
    "        vol_list.append(vol)\n",
    "\n",
    "t7 = get_list_median(vol_list)\n",
    "\n",
    "print('For Carl Zeiss Meditec (ticker AFX_X) in 2017,\\nthe median daily trading volume was {:,}'\\\n",
    "       .format(t7))"
   ]
  }
 ],
 "metadata": {
  "kernelspec": {
   "display_name": "Python 3",
   "language": "python",
   "name": "python3"
  },
  "language_info": {
   "codemirror_mode": {
    "name": "ipython",
    "version": 3
   },
   "file_extension": ".py",
   "mimetype": "text/x-python",
   "name": "python",
   "nbconvert_exporter": "python",
   "pygments_lexer": "ipython3",
   "version": "3.7.7"
  }
 },
 "nbformat": 4,
 "nbformat_minor": 2
}
